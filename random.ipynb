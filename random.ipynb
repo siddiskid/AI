{
 "cells": [
  {
   "cell_type": "code",
   "execution_count": 10,
   "metadata": {},
   "outputs": [],
   "source": [
    "import numpy as np"
   ]
  },
  {
   "cell_type": "code",
   "execution_count": 25,
   "metadata": {},
   "outputs": [
    {
     "name": "stdout",
     "output_type": "stream",
     "text": [
      "[1 2 3] 1\n",
      "[ 46 118]\n",
      "[1 2 3 4 5 6] (1,)\n"
     ]
    }
   ],
   "source": [
    "X = np.array([[1, 2, 3],\n",
    "             [4, 5, 6]])\n",
    "y = np.array([1])\n",
    "w = np.array([9, 8, 7])\n",
    "\n",
    "for x, y in zip(X, y):\n",
    "    print(x, y)\n",
    "\n",
    "p = np.dot(X, w)\n",
    "print(p)\n",
    "a = np.array([101])\n",
    "print(X.ravel(), y.ravel().shape)"
   ]
  },
  {
   "cell_type": "code",
   "execution_count": 18,
   "metadata": {},
   "outputs": [
    {
     "data": {
      "text/plain": [
       "array([1])"
      ]
     },
     "execution_count": 18,
     "metadata": {},
     "output_type": "execute_result"
    }
   ],
   "source": [
    "np.where(a >= 100, 1, 0)"
   ]
  },
  {
   "cell_type": "code",
   "execution_count": 6,
   "metadata": {},
   "outputs": [
    {
     "data": {
      "text/plain": [
       "array([62, 40, 39, 69, 37, 38, 51, 85, 65, 54, 97, 80, 98, 48, 32, 87, 36,\n",
       "       67, 17, 91, 31, 81, 82, 33, 56, 83, 55, 66, 35, 10,  2, 46, 96, 19,\n",
       "       27, 42, 59, 77, 73, 44, 53, 92, 23, 34, 89, 58, 70, 15, 86, 41, 45,\n",
       "       94, 52, 26, 12, 43, 74, 24,  4, 95, 72, 49, 21, 90,  3, 30, 47, 78,\n",
       "        8, 60,  0, 93, 57, 22, 61, 63,  7, 99, 13, 68, 88, 14, 29, 28, 11,\n",
       "       84, 18, 20, 50, 25,  6, 71, 76,  1, 16, 64, 79,  5, 75,  9])"
      ]
     },
     "execution_count": 6,
     "metadata": {},
     "output_type": "execute_result"
    }
   ],
   "source": [
    "rgen = np.random.RandomState(1)\n",
    "w = rgen.normal(0.0, 0.01, 2)\n",
    "rgen.permutation(100)"
   ]
  },
  {
   "cell_type": "code",
   "execution_count": 5,
   "metadata": {},
   "outputs": [
    {
     "data": {
      "text/plain": [
       "array([10.01624345,  9.99388244])"
      ]
     },
     "execution_count": 5,
     "metadata": {},
     "output_type": "execute_result"
    }
   ],
   "source": [
    "w += 10\n",
    "w"
   ]
  },
  {
   "cell_type": "code",
   "execution_count": 6,
   "metadata": {},
   "outputs": [
    {
     "data": {
      "text/plain": [
       "1"
      ]
     },
     "execution_count": 6,
     "metadata": {},
     "output_type": "execute_result"
    }
   ],
   "source": [
    "int(1)"
   ]
  },
  {
   "cell_type": "code",
   "execution_count": null,
   "metadata": {},
   "outputs": [],
   "source": []
  }
 ],
 "metadata": {
  "kernelspec": {
   "display_name": ".venv",
   "language": "python",
   "name": "python3"
  },
  "language_info": {
   "codemirror_mode": {
    "name": "ipython",
    "version": 3
   },
   "file_extension": ".py",
   "mimetype": "text/x-python",
   "name": "python",
   "nbconvert_exporter": "python",
   "pygments_lexer": "ipython3",
   "version": "3.12.0"
  }
 },
 "nbformat": 4,
 "nbformat_minor": 2
}
