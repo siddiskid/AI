{
 "cells": [
  {
   "cell_type": "code",
   "execution_count": 33,
   "metadata": {},
   "outputs": [],
   "source": [
    "import torch\n",
    "from torch.distributions import Uniform as t_unif"
   ]
  },
  {
   "cell_type": "code",
   "execution_count": 24,
   "metadata": {},
   "outputs": [],
   "source": [
    "init_pop = torch.tensor([[1,1,1,1,1,1,1,1], \n",
    "                         [2,2,2,2,2,2,2,2], \n",
    "                         [3,3,3,3,3,3,3,3], \n",
    "                         [4,4,4,4,4,4,4,4], \n",
    "                         [1,2,3,4,1,2,3,4], \n",
    "                         [4,3,2,1,4,3,2,1], \n",
    "                         [1,2,1,2,1,2,1,2], \n",
    "                         [3,4,3,4,3,4,3,4]]) "
   ]
  },
  {
   "cell_type": "code",
   "execution_count": 25,
   "metadata": {},
   "outputs": [],
   "source": [
    "def n_satisfied(state):\n",
    "    n_s = 0\n",
    "    A, B, C, D, E, F, G, H = (var for var in state)\n",
    "    \n",
    "    if (A > G):\n",
    "        n_s += 1\n",
    "    if (A <= H):\n",
    "        n_s += 1\n",
    "    if (abs(F - B) == 1):\n",
    "        n_s += 1\n",
    "    if (G < H):\n",
    "        n_s += 1\n",
    "    if (abs(G - C) == 1):\n",
    "        n_s += 1\n",
    "    if ((H - C) % 2 == 0):\n",
    "        n_s += 1\n",
    "    if (H != D):\n",
    "        n_s += 1\n",
    "    if (D >= G):\n",
    "        n_s += 1\n",
    "    if (D != C):\n",
    "        n_s += 1\n",
    "    if (E != C):\n",
    "        n_s += 1\n",
    "    if (E < D - 1):\n",
    "        n_s += 1\n",
    "    if (E != H - 2):\n",
    "        n_s += 1\n",
    "    if (G != F):\n",
    "        n_s += 1\n",
    "    if (H != F):\n",
    "        n_s += 1\n",
    "    if (C != F):\n",
    "        n_s += 1\n",
    "    if (D != F - 1):\n",
    "        n_s += 1\n",
    "    if (abs(E - F) % 2 == 1):\n",
    "        n_s += 1\n",
    "        \n",
    "    return n_s"
   ]
  },
  {
   "cell_type": "code",
   "execution_count": 26,
   "metadata": {},
   "outputs": [
    {
     "data": {
      "text/plain": [
       "12"
      ]
     },
     "execution_count": 26,
     "metadata": {},
     "output_type": "execute_result"
    }
   ],
   "source": [
    "n_satisfied(init_pop[4])"
   ]
  },
  {
   "cell_type": "code",
   "execution_count": 27,
   "metadata": {},
   "outputs": [],
   "source": [
    "def get_survival_ranges(population, fitness_fn):\n",
    "    s_arr = []\n",
    "    \n",
    "    for i in range(len(population)):\n",
    "        n_s = fitness_fn(population[i])\n",
    "        s_arr.append(n_s)\n",
    "        \n",
    "    s = sum(s_arr)    \n",
    "    for i in range(len(s_arr)):\n",
    "        print(f\"State {i + 1} --> Fitness score: {s_arr[i]} Parent likelihood: {torch.math.floor((s_arr[i] / s) * 10000)/100}%\")\n",
    "        s_arr[i] /= s\n",
    "        if (i != 0):\n",
    "            s_arr[i] += s_arr[i - 1]        \n",
    "    \n",
    "    return s_arr"
   ]
  },
  {
   "cell_type": "code",
   "execution_count": 28,
   "metadata": {},
   "outputs": [
    {
     "name": "stdout",
     "output_type": "stream",
     "text": [
      "State 1 --> Fitness score: 5 Parent likelihood: 8.47%\n",
      "State 2 --> Fitness score: 5 Parent likelihood: 8.47%\n",
      "State 3 --> Fitness score: 5 Parent likelihood: 8.47%\n",
      "State 4 --> Fitness score: 5 Parent likelihood: 8.47%\n",
      "State 5 --> Fitness score: 12 Parent likelihood: 20.33%\n",
      "State 6 --> Fitness score: 9 Parent likelihood: 15.25%\n",
      "State 7 --> Fitness score: 9 Parent likelihood: 15.25%\n",
      "State 8 --> Fitness score: 9 Parent likelihood: 15.25%\n"
     ]
    }
   ],
   "source": [
    "sr = get_survival_ranges(init_pop, n_satisfied)"
   ]
  },
  {
   "cell_type": "code",
   "execution_count": 34,
   "metadata": {},
   "outputs": [],
   "source": [
    "def get_random_parents_crossover(survival_range, num_pairs):\n",
    "    parent_pairs = []\n",
    "    \n",
    "    for i in range(num_pairs):\n",
    "        p1 = t_unif(0, 1).sample()\n",
    "        p2 = t_unif(0, 1).sample()\n",
    "\n",
    "        for j in range(len(survival_range)):\n",
    "            if (p1 < survival_range[j]):\n",
    "                p1 = j\n",
    "                break\n",
    "\n",
    "        for j in range(len(survival_range)):\n",
    "            if (p2 < survival_range[j]):\n",
    "                p2 = j\n",
    "                break\n",
    "            \n",
    "        mutation_var = t_unif(0, len(survival_range) - 1).sample()\n",
    "\n",
    "        parent_pairs.append([p1, p2, mutation_var])\n",
    "    \n",
    "    return parent_pairs"
   ]
  },
  {
   "cell_type": "code",
   "execution_count": 35,
   "metadata": {},
   "outputs": [
    {
     "data": {
      "text/plain": [
       "[[6, 0, tensor(3.3052)],\n",
       " [2, 6, tensor(2.8595)],\n",
       " [3, 6, tensor(2.3276)],\n",
       " [1, 4, tensor(4.2796)]]"
      ]
     },
     "execution_count": 35,
     "metadata": {},
     "output_type": "execute_result"
    }
   ],
   "source": [
    "get_random_parents_crossover(sr, 4)"
   ]
  },
  {
   "cell_type": "code",
   "execution_count": 39,
   "metadata": {},
   "outputs": [],
   "source": [
    "def genetic(init_pop, domain, fitness_fn, num_iters, max_satisfy):\n",
    "    pop_ = init_pop\n",
    "    \n",
    "    # Lookup table to convert indices to variable names\n",
    "    int_to_var = {0: \"A\", 1: \"B\", 2: \"C\", 3: \"D\", 4: \"E\", 5: \"F\", 6: \"G\", 7: \"H\"}\n",
    "    \n",
    "    # Genetic algorithm for-loop\n",
    "    for i in range(num_iters):\n",
    "        print(f\"Generation {i}:\")\n",
    "        for i in range(len(pop_)):\n",
    "            print(f\"State {i + 1}: {pop_[i]}\")\n",
    "        \n",
    "        # Getting fitness scores and corresponding survival ranges\n",
    "        sr = get_survival_ranges(pop_, fitness_fn)\n",
    "        \n",
    "        # Getting 4 parent pairs and a random crossover point for each pair (Selection)\n",
    "        parent_pairs = get_random_parents_crossover(sr, int(len(pop_) / 2))\n",
    "        \n",
    "        # Initializing an empty array for the next generation\n",
    "        new_gen = []\n",
    "        \n",
    "        # Performing crossing for each of the parent pairs about the crossover points (Crossing)\n",
    "        for j in range(len(parent_pairs)):\n",
    "            parent_pair = parent_pairs[j]\n",
    "            \n",
    "            c1 = pop_[parent_pair[0]]\n",
    "            c2 = pop_[parent_pair[1]]\n",
    "            crossover_point = int(parent_pair[2].item())\n",
    "            \n",
    "            temp = c1[crossover_point: ]\n",
    "            \n",
    "            c1[crossover_point: ] = c2[crossover_point: ]\n",
    "            c2[crossover_point: ] = temp\n",
    "            \n",
    "            new_gen.append(c1)\n",
    "            new_gen.append(c2)\n",
    "         \n",
    "        # Performing mutation with a 30% chance of a variable in a state being mutated (Mutation)\n",
    "        for j in range(len(new_gen)):\n",
    "            curr_c = new_gen[j]\n",
    "            \n",
    "            if (t_unif(0, 1).sample() <= 0.3):\n",
    "                mutation_var_i = int(t_unif(0, len(c1) - 1).sample().item())\n",
    "                mutate_to = domain[int(t_unif(0, len(domain) - 1).sample().item())]\n",
    "\n",
    "                c_i_before = curr_c[mutation_var_i]\n",
    "                mutated_var = domain[t_unif(0, len(domain) - 1).sample()]\n",
    "                \n",
    "                curr_c[mutation_var_i] = mutated_var\n",
    "\n",
    "                print(f\"Child {j + 1}: Variable {int_to_var[mutation_var_i]} mutated to {curr_c[mutation_var_i]} (original value : {c_i_before})\")\n",
    "            else:\n",
    "                print(f\"Child {j + 1}: No mutation\")\n",
    "        \n",
    "        # Updating population to be the new generation\n",
    "        pop_ = new_gen\n",
    "        \n",
    "        # Checking to see if any state satisfies all constraints\n",
    "        for i in range(len(pop_)):\n",
    "            if (fitness_fn(pop_[i]) == max_satisfy):\n",
    "                print(f\"Found solution: {pop_[i]}\")\n",
    "                return pop_\n",
    "\n",
    "        print(\"\")\n",
    "    \n",
    "    return pop_\n",
    "\n",
    "    "
   ]
  },
  {
   "cell_type": "code",
   "execution_count": 40,
   "metadata": {},
   "outputs": [
    {
     "name": "stdout",
     "output_type": "stream",
     "text": [
      "Generation 0:\n",
      "State 1: tensor([1, 1, 1, 1, 1, 1, 1, 1])\n",
      "State 2: tensor([2, 2, 2, 2, 2, 2, 2, 2])\n",
      "State 3: tensor([3, 3, 3, 3, 3, 3, 3, 3])\n",
      "State 4: tensor([4, 4, 4, 4, 4, 4, 4, 4])\n",
      "State 5: tensor([1, 2, 3, 4, 1, 2, 3, 4])\n",
      "State 6: tensor([4, 3, 2, 1, 4, 3, 2, 1])\n",
      "State 7: tensor([1, 2, 1, 2, 1, 2, 1, 2])\n",
      "State 8: tensor([3, 4, 3, 4, 3, 4, 3, 4])\n",
      "State 1 --> Fitness score: 5 Parent likelihood: 8.47%\n",
      "State 2 --> Fitness score: 5 Parent likelihood: 8.47%\n",
      "State 3 --> Fitness score: 5 Parent likelihood: 8.47%\n",
      "State 4 --> Fitness score: 5 Parent likelihood: 8.47%\n",
      "State 5 --> Fitness score: 12 Parent likelihood: 20.33%\n",
      "State 6 --> Fitness score: 9 Parent likelihood: 15.25%\n",
      "State 7 --> Fitness score: 9 Parent likelihood: 15.25%\n",
      "State 8 --> Fitness score: 9 Parent likelihood: 15.25%\n",
      "Child 1: No mutation\n",
      "Child 2: No mutation\n"
     ]
    },
    {
     "ename": "IndexError",
     "evalue": "tensors used as indices must be long, int, byte or bool tensors",
     "output_type": "error",
     "traceback": [
      "\u001b[0;31m---------------------------------------------------------------------------\u001b[0m",
      "\u001b[0;31mIndexError\u001b[0m                                Traceback (most recent call last)",
      "Cell \u001b[0;32mIn[40], line 1\u001b[0m\n\u001b[0;32m----> 1\u001b[0m \u001b[43mgenetic\u001b[49m\u001b[43m(\u001b[49m\u001b[43minit_pop\u001b[49m\u001b[43m,\u001b[49m\u001b[43m \u001b[49m\u001b[43m[\u001b[49m\u001b[38;5;241;43m1\u001b[39;49m\u001b[43m,\u001b[49m\u001b[43m \u001b[49m\u001b[38;5;241;43m2\u001b[39;49m\u001b[43m,\u001b[49m\u001b[43m \u001b[49m\u001b[38;5;241;43m3\u001b[39;49m\u001b[43m,\u001b[49m\u001b[43m \u001b[49m\u001b[38;5;241;43m4\u001b[39;49m\u001b[43m]\u001b[49m\u001b[43m,\u001b[49m\u001b[43m \u001b[49m\u001b[43mn_satisfied\u001b[49m\u001b[43m,\u001b[49m\u001b[43m \u001b[49m\u001b[38;5;241;43m3\u001b[39;49m\u001b[43m,\u001b[49m\u001b[43m \u001b[49m\u001b[38;5;241;43m17\u001b[39;49m\u001b[43m)\u001b[49m\n",
      "Cell \u001b[0;32mIn[39], line 45\u001b[0m, in \u001b[0;36mgenetic\u001b[0;34m(init_pop, domain, fitness_fn, num_iters, max_satisfy)\u001b[0m\n\u001b[1;32m     42\u001b[0m \u001b[38;5;28;01mif\u001b[39;00m (t_unif(\u001b[38;5;241m0\u001b[39m, \u001b[38;5;241m1\u001b[39m)\u001b[38;5;241m.\u001b[39msample() \u001b[38;5;241m<\u001b[39m\u001b[38;5;241m=\u001b[39m \u001b[38;5;241m0.3\u001b[39m):\n\u001b[1;32m     43\u001b[0m     mutation_var_i \u001b[38;5;241m=\u001b[39m t_unif(\u001b[38;5;241m0\u001b[39m, \u001b[38;5;28mlen\u001b[39m(c1) \u001b[38;5;241m-\u001b[39m \u001b[38;5;241m1\u001b[39m)\u001b[38;5;241m.\u001b[39msample()\n\u001b[0;32m---> 45\u001b[0m     c_i_before \u001b[38;5;241m=\u001b[39m \u001b[43mcurr_c\u001b[49m\u001b[43m[\u001b[49m\u001b[43mmutation_var_i\u001b[49m\u001b[43m]\u001b[49m\n\u001b[1;32m     46\u001b[0m     mutated_var \u001b[38;5;241m=\u001b[39m domain[t_unif(\u001b[38;5;241m0\u001b[39m, \u001b[38;5;28mlen\u001b[39m(domain) \u001b[38;5;241m-\u001b[39m \u001b[38;5;241m1\u001b[39m)\u001b[38;5;241m.\u001b[39msample()]\n\u001b[1;32m     48\u001b[0m     curr_c[mutation_var_i] \u001b[38;5;241m=\u001b[39m mutated_var\n",
      "\u001b[0;31mIndexError\u001b[0m: tensors used as indices must be long, int, byte or bool tensors"
     ]
    }
   ],
   "source": [
    "genetic(init_pop, [1, 2, 3, 4], n_satisfied, 3, 17)"
   ]
  },
  {
   "cell_type": "code",
   "execution_count": 38,
   "metadata": {},
   "outputs": [
    {
     "data": {
      "text/plain": [
       "1"
      ]
     },
     "execution_count": 38,
     "metadata": {},
     "output_type": "execute_result"
    }
   ],
   "source": [
    "int(torch.tensor(1).item())"
   ]
  },
  {
   "cell_type": "code",
   "execution_count": null,
   "metadata": {},
   "outputs": [],
   "source": []
  }
 ],
 "metadata": {
  "kernelspec": {
   "display_name": ".venv",
   "language": "python",
   "name": "python3"
  },
  "language_info": {
   "codemirror_mode": {
    "name": "ipython",
    "version": 3
   },
   "file_extension": ".py",
   "mimetype": "text/x-python",
   "name": "python",
   "nbconvert_exporter": "python",
   "pygments_lexer": "ipython3",
   "version": "3.12.0"
  }
 },
 "nbformat": 4,
 "nbformat_minor": 2
}
