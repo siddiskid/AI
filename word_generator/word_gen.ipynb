{
 "cells": [
  {
   "cell_type": "code",
   "execution_count": 2,
   "metadata": {},
   "outputs": [],
   "source": [
    "import random\n",
    "import torch\n",
    "import torch.nn.functional as F \n",
    "import matplotlib.pyplot as plt\n",
    "%matplotlib inline"
   ]
  },
  {
   "cell_type": "code",
   "execution_count": 44,
   "metadata": {},
   "outputs": [
    {
     "data": {
      "text/plain": [
       "['aa', 'aaa', 'aah', 'aahed', 'aahing', 'aahs', 'aal', 'aalii', 'aaliis']"
      ]
     },
     "execution_count": 44,
     "metadata": {},
     "output_type": "execute_result"
    }
   ],
   "source": [
    "words = open(\"words_alpha.txt\", \"r\").read().splitlines()\n",
    "\n",
    "words[1:10]"
   ]
  },
  {
   "cell_type": "code",
   "execution_count": 45,
   "metadata": {},
   "outputs": [
    {
     "data": {
      "text/plain": [
       "370104"
      ]
     },
     "execution_count": 45,
     "metadata": {},
     "output_type": "execute_result"
    }
   ],
   "source": [
    "len(words)"
   ]
  },
  {
   "cell_type": "code",
   "execution_count": 46,
   "metadata": {},
   "outputs": [],
   "source": [
    "# lookup tables\n",
    "\n",
    "characters = sorted(list(set(\"\".join(words))))\n",
    "stoi = {s : i + 1 for i, s in enumerate(characters)}\n",
    "stoi[\".\"] = 0\n",
    "itos = {i : s for s, i in stoi.items()}\n",
    "\n",
    "vocab_size = 27"
   ]
  },
  {
   "cell_type": "code",
   "execution_count": 47,
   "metadata": {},
   "outputs": [],
   "source": [
    "# building the dataset\n",
    "random.seed(2)\n",
    "block_size = 3 # how many chars used to predict the next character\n",
    "\n",
    "def build_dataset(words):\n",
    "    X, y = [], []\n",
    "\n",
    "    for w in words:\n",
    "        context = [0] * block_size # start characters in the start\n",
    "        for ch in w + '.':\n",
    "            ix = stoi[ch] \n",
    "            X.append(context)\n",
    "            y.append(ix)\n",
    "            context = context[1:] + [ix] # crop and append \n",
    "\n",
    "    X = torch.tensor(X)\n",
    "    y = torch.tensor(y)\n",
    "    \n",
    "    return X, y\n",
    "\n",
    "random.shuffle(words)\n",
    "n1 = int(0.8 * len(words))\n",
    "n2 = int(0.9 * len(words))\n",
    "\n",
    "X_train, y_train = build_dataset(words[:n1])\n",
    "X_dev, y_dev = build_dataset(words[n1:n2])\n",
    "X_test, y_test = build_dataset(words[n2:])\n"
   ]
  },
  {
   "cell_type": "code",
   "execution_count": 133,
   "metadata": {},
   "outputs": [],
   "source": [
    "g = torch.Generator().manual_seed(5)\n",
    "n_dims = 10\n",
    "n_hidden = 100\n",
    "\n",
    "# encoding alphabets into n_dims-dim space\n",
    "C = torch.randn((vocab_size, n_dims), generator = g)\n",
    "W1 = torch.randn(((block_size * n_dims), n_hidden), generator = g) * ((5/3) / (block_size * n_dims) ** 0.5) \n",
    "# hidden layer 1                                                    manual kaiming_init (multiplying by gain)\n",
    "#b1 = torch.randn(n_hidden, generator = g) * 0.01 \n",
    "#no need to use anymore since we are batch normalizing and that subtracts biases anyway\n",
    "W2 = torch.randn((n_hidden, vocab_size), generator = g) * 0.1  # output layer\n",
    "b2 = torch.zeros(vocab_size)\n",
    "# b2 = torch.randn(vocab_size, generator = g)\n",
    "# for batch normalization\n",
    "bngain = torch.ones((1, n_hidden))\n",
    "bnbias = torch.zeros((1, n_hidden))\n",
    "bnmean_running = torch.zeros((1, n_hidden))\n",
    "bnstd_running = torch.ones((1, n_hidden))\n",
    "\n",
    "parameters = [C, W1, W2, b2, bngain, bnbias]\n",
    "\n",
    "for p in parameters:\n",
    "    p.requires_grad = True\n",
    "    \n",
    "# batch normalization is done to control the statistics of layers in which there are multiplications. \n",
    "# usually sprinkled in after layers with multiplications, linear layers, convolutional layers. done using \n",
    "# a gain and bias that are learned during training, and running mean and std that are updated during training \n",
    "# (not learned). hard to work with tho, group normalization/layer normalization might be better. "
   ]
  },
  {
   "cell_type": "code",
   "execution_count": 134,
   "metadata": {},
   "outputs": [
    {
     "name": "stdout",
     "output_type": "stream",
     "text": [
      "Run 0/99999, Loss: 3.312075614929199\n",
      "Run 10000/99999, Loss: 2.4320058822631836\n",
      "Run 20000/99999, Loss: 2.6608364582061768\n",
      "Run 30000/99999, Loss: 2.5180511474609375\n",
      "Run 40000/99999, Loss: 2.5870609283447266\n",
      "Run 50000/99999, Loss: 2.2551257610321045\n",
      "Run 60000/99999, Loss: 2.0536718368530273\n",
      "Run 70000/99999, Loss: 2.7473251819610596\n",
      "Run 80000/99999, Loss: 2.3807363510131836\n",
      "Run 90000/99999, Loss: 1.984889030456543\n",
      "Run 99999/99999, Loss: 2.2277638912200928\n"
     ]
    }
   ],
   "source": [
    "# training!!!\n",
    "\n",
    "# lri = []\n",
    "# lossi = []\n",
    "# stepi = []\n",
    "\n",
    "max_runs = 100000\n",
    "mini_batch_size = 32\n",
    "\n",
    "for i in range(max_runs):\n",
    "    # make minibatches for more efficiency\n",
    "    ix = torch.randint(0, X_train.shape[0], (mini_batch_size, ))\n",
    "    \n",
    "    # forward pass\n",
    "    emb = C[X_train[ix]] # indexing using X\n",
    "    embcat = emb.view(emb.shape[0], -1)\n",
    "    hpreact = (embcat @ W1) #+ b1\n",
    "    bnmean_i = hpreact.mean(0, keepdims = True)\n",
    "    bnstd_i = hpreact.std(0, keepdims = True)\n",
    "    hpreact = bngain * ((hpreact - bnmean_i) / bnstd_i) + bnbias\n",
    "    h = torch.tanh(hpreact)\n",
    "    logits = ((h @ W2) + b2)\n",
    "    loss = F.cross_entropy(logits, y_train[ix])\n",
    "    \n",
    "    with torch.no_grad():\n",
    "        bnmean_running = 0.999 * bnmean_running + 0.001 * bnmean_i\n",
    "        bnstd_running = 0.99 * bnstd_running + 0.01 * bnstd_i\n",
    "    \n",
    "    # backward pass\n",
    "    for p in parameters:\n",
    "        p.grad = None\n",
    "    loss.backward()\n",
    "    \n",
    "    # lr = lre[i]    \n",
    "    lr = 0.01 if i < (max_runs / 2) else 0.001 # learning rate decay\n",
    "    # update\n",
    "    for p in parameters:\n",
    "        p.data += -lr * p.grad\n",
    "    \n",
    "    print(f'Run {i}/{max_runs - 1}, Loss: {loss}') if (((i % (max_runs / 10)) == 0) or (i == max_runs - 1)) else \"\"\n",
    "    # lri.append(lr)\n",
    "    # lossi.append(loss.item())\n",
    "    # stepi.append(i)"
   ]
  },
  {
   "cell_type": "code",
   "execution_count": 137,
   "metadata": {},
   "outputs": [
    {
     "data": {
      "text/plain": [
       "tensor(2.3501, grad_fn=<NllLossBackward0>)"
      ]
     },
     "execution_count": 137,
     "metadata": {},
     "output_type": "execute_result"
    }
   ],
   "source": [
    "# dev loss\n",
    "emb = C[X_dev]\n",
    "embcat = emb.view(emb.shape[0], -1)\n",
    "hpreact = (embcat @ W1) #+ b1\n",
    "#hpreact = bngain * ((hpreact - hpreact.mean(0, keepdims = True)) / hpreact.std(0, keepdims = True)) + bnbias \n",
    "#                           causes coupling bw examples (bad)\n",
    "hpreact = bngain * ((hpreact - bnmean_running) / bnstd_running) + bnbias \n",
    "h = torch.tanh(hpreact)\n",
    "logits = ((h @ W2) + b2)\n",
    "loss = F.cross_entropy(logits, y_dev)\n",
    "loss"
   ]
  },
  {
   "cell_type": "code",
   "execution_count": 138,
   "metadata": {},
   "outputs": [
    {
     "data": {
      "text/plain": [
       "tensor(2.3495, grad_fn=<NllLossBackward0>)"
      ]
     },
     "execution_count": 138,
     "metadata": {},
     "output_type": "execute_result"
    }
   ],
   "source": [
    "# test loss\n",
    "\n",
    "emb = C[X_test]\n",
    "embcat = emb.view(emb.shape[0], -1)\n",
    "hpreact = (embcat @ W1) #+ b1\n",
    "hpreact = bngain * ((hpreact - hpreact.mean(0, keepdims = True)) / hpreact.std(0, keepdims = True)) + bnbias\n",
    "h = torch.tanh(hpreact)\n",
    "logits = ((h @ W2) + b2)\n",
    "loss = F.cross_entropy(logits, y_test)\n",
    "loss"
   ]
  },
  {
   "cell_type": "markdown",
   "metadata": {},
   "source": [
    "Training loss ~ Test loss means underfitting, could benefit from scaling up"
   ]
  },
  {
   "cell_type": "code",
   "execution_count": 171,
   "metadata": {},
   "outputs": [
    {
     "data": {
      "image/png": "[encoded data removed]",
      "text/plain": [
       "<Figure size 800x800 with 1 Axes>"
      ]
     },
     "metadata": {},
     "output_type": "display_data"
    }
   ],
   "source": [
    "# plot of 2d embeddings for each character\n",
    "\n",
    "plt.figure(figsize=(8,8))\n",
    "plt.scatter(C[:, 0].data, C[:, 1].data, s = 200)\n",
    "for i in range(C.shape[0]):\n",
    "    plt.text(C[i, 0].item(), C[i, 1].item(), itos[i], ha = \"center\", va = \"center\", color = \"white\")\n",
    "    plt.grid(\"minor\")"
   ]
  },
  {
   "cell_type": "markdown",
   "metadata": {},
   "source": [
    "SO INTERESTING TO SEE VOWELS CLUSTERED TOGETHER, AND HOW EVERYTHING SORT OF MAKES SENSE"
   ]
  },
  {
   "cell_type": "code",
   "execution_count": 170,
   "metadata": {},
   "outputs": [
    {
     "name": "stdout",
     "output_type": "stream",
     "text": [
      "dems.perush.seprrexing.qamtes.frats.deucufoxrydodg.qasth.pruvonfzivluftry.but.princtspfoxxuominppuints.\n"
     ]
    },
    {
     "ename": "",
     "evalue": "",
     "output_type": "error",
     "traceback": [
      "\u001b[1;31mThe Kernel crashed while executing code in the current cell or a previous cell. \n",
      "\u001b[1;31mPlease review the code in the cell(s) to identify a possible cause of the failure. \n",
      "\u001b[1;31mClick <a href='https://aka.ms/vscodeJupyterKernelCrash'>here</a> for more info. \n",
      "\u001b[1;31mView Jupyter <a href='command:jupyter.viewOutput'>log</a> for further details."
     ]
    }
   ],
   "source": [
    "# sampling\n",
    "\n",
    "words = []\n",
    "\n",
    "for i in range(10):\n",
    "  context = [0] * block_size\n",
    "  \n",
    "  while True:\n",
    "      emb = C[torch.tensor([context])]\n",
    "      h = torch.tanh((emb.view(1, -1) @ W1) + b1)\n",
    "      logits = (h @ W2) + b2\n",
    "      probs = F.softmax(logits, dim = 1)\n",
    "      ix = torch.multinomial(probs, num_samples = 1).item()\n",
    "      context = context[1:] + [ix]\n",
    "      words.append(itos[ix])\n",
    "      if (ix == 0):\n",
    "          break \n",
    "      \n",
    "print(\"\".join(words))"
   ]
  },
  {
   "cell_type": "markdown",
   "metadata": {},
   "source": [
    "Way better results lmao"
   ]
  },
  {
   "cell_type": "markdown",
   "metadata": {},
   "source": [
    "Doing the same thing, but in a more pytorch way"
   ]
  },
  {
   "cell_type": "code",
   "execution_count": null,
   "metadata": {},
   "outputs": [],
   "source": [
    "class Linear:\n",
    "    def __init__(self, num_in, num_out, bias = True):\n",
    "        self.weight = torch.randn((num_in, num_out)) / (num_in ** (1/2))\n",
    "        self.bias = torch.zeros(num_out) if bias else None\n",
    "        \n",
    "    def __call__(self, x):\n",
    "        self.out = x @ self.weight\n",
    "        if self.bias is not None:\n",
    "            self.out += self.bias\n",
    "        return self.out\n",
    "    \n",
    "    def parameters(self):\n",
    "        return [self.weight] + ([] if self.bias is None else [self.bias])\n",
    "    \n",
    "class BatchNorm1D:\n",
    "    def __init__(self, dim, eps = 1e-5, momentum = 0.1):\n",
    "        self.eps = eps\n",
    "        self.momentum = momentum\n",
    "        self.training = True\n",
    "        self.gamma = torch.ones(dim)\n",
    "        self.beta = torch.zeros(dim)\n",
    "        self.rmean = torch.zeros(dim)\n",
    "        self.rvar = torch.ones(dim)\n",
    "        \n",
    "    def __call__(self, x):\n",
    "        if self.training:\n",
    "            xmean = x.mean(0, keepdim = True)\n",
    "            xvar = x.var(0, keepdim = True)\n",
    "        else:\n",
    "            xmean = self.rmean\n",
    "            xvar = self.var\n",
    "        xhat = (x - xmean) / torch.sqrt(xvar + self.eps)\n",
    "        self.out = self.gamma * xhat + self.beta\n",
    "        \n",
    "        if self.training:\n",
    "            with torch.no_grad():\n",
    "                self.rmean = (1 - self.momentum) * self.rmean + self.momentum * xmean\n",
    "                self.rvar = (1 - self.momentum) * self.rvar + self.momentum * xvar\n",
    "        return self.out\n",
    "    \n",
    "    def parameters(self):\n",
    "        return [self.gamma, self.beta]\n",
    "            "
   ]
  }
 ],
 "metadata": {
  "kernelspec": {
   "display_name": ".venv",
   "language": "python",
   "name": "python3"
  },
  "language_info": {
   "codemirror_mode": {
    "name": "ipython",
    "version": 3
   },
   "file_extension": ".py",
   "mimetype": "text/x-python",
   "name": "python",
   "nbconvert_exporter": "python",
   "pygments_lexer": "ipython3",
   "version": "3.12.0"
  }
 },
 "nbformat": 4,
 "nbformat_minor": 2
}
