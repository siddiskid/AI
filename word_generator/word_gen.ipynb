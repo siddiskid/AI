{
 "cells": [
  {
   "cell_type": "code",
   "execution_count": 1,
   "metadata": {},
   "outputs": [],
   "source": [
    "import torch\n",
    "import torch.nn.functional as F \n",
    "import matplotlib.pyplot as pyplot\n",
    "%matplotlib inline"
   ]
  },
  {
   "cell_type": "code",
   "execution_count": 60,
   "metadata": {},
   "outputs": [
    {
     "data": {
      "text/plain": [
       "['aa', 'aaa', 'aah', 'aahed', 'aahing', 'aahs', 'aal', 'aalii', 'aaliis']"
      ]
     },
     "execution_count": 60,
     "metadata": {},
     "output_type": "execute_result"
    }
   ],
   "source": [
    "words = open(\"words_alpha.txt\", \"r\").read().splitlines()\n",
    "\n",
    "words[1:10]"
   ]
  },
  {
   "cell_type": "code",
   "execution_count": 61,
   "metadata": {},
   "outputs": [
    {
     "data": {
      "text/plain": [
       "370104"
      ]
     },
     "execution_count": 61,
     "metadata": {},
     "output_type": "execute_result"
    }
   ],
   "source": [
    "len(words)"
   ]
  },
  {
   "cell_type": "code",
   "execution_count": 62,
   "metadata": {},
   "outputs": [],
   "source": [
    "# lookup tables\n",
    "\n",
    "characters = sorted(list(set(\"\".join(words))))\n",
    "stoi = {s : i + 1 for i, s in enumerate(characters)}\n",
    "stoi[\".\"] = 0\n",
    "itos = {i : s for s, i in stoi.items()}"
   ]
  },
  {
   "cell_type": "code",
   "execution_count": 63,
   "metadata": {},
   "outputs": [],
   "source": [
    "# building the dataset\n",
    "\n",
    "block_size = 3 # how many chars used to predict the next character\n",
    "X, y = [], []\n",
    "\n",
    "for w in words[:3]:\n",
    "    context = [0] * block_size # start characters in the start\n",
    "    for ch in w + '.':\n",
    "        ix = stoi[ch] \n",
    "        X.append(context)\n",
    "        y.append(ix)\n",
    "        context = context[1:] + [ix] # crop and append \n",
    "\n",
    "X = torch.tensor(X)\n",
    "y = torch.tensor(y)"
   ]
  },
  {
   "cell_type": "code",
   "execution_count": null,
   "metadata": {},
   "outputs": [
    {
     "data": {
      "text/plain": [
       "tensor([[[ 1.5190, -0.7319],\n",
       "         [ 1.5190, -0.7319],\n",
       "         [ 1.5190, -0.7319]],\n",
       "\n",
       "        [[ 1.5190, -0.7319],\n",
       "         [ 1.5190, -0.7319],\n",
       "         [ 1.6754,  0.8582]],\n",
       "\n",
       "        [[ 1.5190, -0.7319],\n",
       "         [ 1.5190, -0.7319],\n",
       "         [ 1.5190, -0.7319]],\n",
       "\n",
       "        [[ 1.5190, -0.7319],\n",
       "         [ 1.5190, -0.7319],\n",
       "         [ 1.6754,  0.8582]],\n",
       "\n",
       "        [[ 1.5190, -0.7319],\n",
       "         [ 1.6754,  0.8582],\n",
       "         [ 1.6754,  0.8582]],\n",
       "\n",
       "        [[ 1.5190, -0.7319],\n",
       "         [ 1.5190, -0.7319],\n",
       "         [ 1.5190, -0.7319]],\n",
       "\n",
       "        [[ 1.5190, -0.7319],\n",
       "         [ 1.5190, -0.7319],\n",
       "         [ 1.6754,  0.8582]],\n",
       "\n",
       "        [[ 1.5190, -0.7319],\n",
       "         [ 1.6754,  0.8582],\n",
       "         [ 1.6754,  0.8582]],\n",
       "\n",
       "        [[ 1.6754,  0.8582],\n",
       "         [ 1.6754,  0.8582],\n",
       "         [ 1.6754,  0.8582]]])"
      ]
     },
     "execution_count": 64,
     "metadata": {},
     "output_type": "execute_result"
    }
   ],
   "source": []
  },
  {
   "cell_type": "code",
   "execution_count": 77,
   "metadata": {},
   "outputs": [
    {
     "data": {
      "text/plain": [
       "tensor(15.4757)"
      ]
     },
     "execution_count": 77,
     "metadata": {},
     "output_type": "execute_result"
    }
   ],
   "source": [
    "g = torch.Generator().manual_seed(2)\n",
    "\n",
    "# encoding alphabets into 2-dim space\n",
    "C = torch.randn((27, 2), generator = g)\n",
    "\n",
    "# hidden layer 1\n",
    "W1 = torch.randn((6, 100), generator = g)\n",
    "b1 = torch.randn(100, generator = g)\n",
    "\n",
    "# output layer\n",
    "W2 = torch.randn((100, 27), generator = g)\n",
    "b2 = torch.randn(27, generator = g)\n",
    "\n",
    "parameters = [C, W1, b1, W2, b2]\n",
    "\n",
    "emb = C[X] # indexing using X\n",
    "# emb = torch.cat([emb[:, 0, :], emb[:, 1, :], emb[:, 2, :]]) # concatenating along dimension 1\n",
    "# emb = torch.cat(torch.unbind(emb, 1), 1) # concatenating along dimension 1 (dynamic)\n",
    "# emb = emb.view(emb.shape[0], 6) # concatenating along dimension 1 (dynamic) (efficient)\n",
    "h = torch.tanh((emb.view(emb.shape[0], 6) @ W1) + b1)\n",
    "logits = ((h @ W2) + b2)\n",
    "# counts = logits.exp()\n",
    "# probs = counts / counts.sum(1, keepdim = True)\n",
    "# loss = -probs[torch.arange(emb.shape[0]), y].log().mean()\n",
    "# can be done using cross_entropy\n",
    "loss = F.cross_entropy(logits, y)\n",
    "\n",
    "loss"
   ]
  },
  {
   "cell_type": "code",
   "execution_count": null,
   "metadata": {},
   "outputs": [],
   "source": []
  }
 ],
 "metadata": {
  "kernelspec": {
   "display_name": ".venv",
   "language": "python",
   "name": "python3"
  },
  "language_info": {
   "codemirror_mode": {
    "name": "ipython",
    "version": 3
   },
   "file_extension": ".py",
   "mimetype": "text/x-python",
   "name": "python",
   "nbconvert_exporter": "python",
   "pygments_lexer": "ipython3",
   "version": "3.12.0"
  }
 },
 "nbformat": 4,
 "nbformat_minor": 2
}
